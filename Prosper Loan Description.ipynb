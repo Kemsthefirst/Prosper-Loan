{
 "cells": [
  {
   "cell_type": "markdown",
   "metadata": {},
   "source": [
    "# Python Project - (Prosper Loan )\n",
    "## by (Folakemi Lawal)\n",
    "\n",
    "## Introduction\n",
    ">The dataset under investigation, contains information about loans facilitated through a lending platform. It encompasses a variety of borrower attributes, loan details, and outcome metrics. This comprehensive dataset offers a rich source of insights into the dynamics of lending operations, borrower characteristics, and loan performance.\n",
    "\n",
    "\n",
    "\n",
    "\n"
   ]
  },
  {
   "cell_type": "markdown",
   "metadata": {},
   "source": [
    "## Preliminary Wrangling"
   ]
  },
  {
   "cell_type": "markdown",
   "metadata": {},
   "source": [
    "> Load in your dataset and describe its properties through the questions below. Try and motivate your exploration goals through this section.\n"
   ]
  },
  {
   "cell_type": "markdown",
   "metadata": {},
   "source": [
    "### What is the structure of your dataset?\n",
    "\n",
    "> Columns,Rows,Data Types,Missing Values.\n",
    "\n",
    "### What is/are the main feature(s) of interest in your dataset?\n",
    "\n",
    "> BorrowerAPR,LoanStatus,EmploymentStatus,LoanOriginalAmount,CreditScoreRangeLower, CreditScoreRangeUpper\n",
    "\n",
    "### What features in the dataset do you think will help support your investigation into your feature(s) of interest?\n",
    "\n",
    "> Term,IncomeRange,ProsperRating (numeric) and ProsperRating (Alpha),ProsperScore"
   ]
  },
  {
   "cell_type": "markdown",
   "metadata": {},
   "source": [
    "## Univariate Exploration\n",
    "\n",
    "\n",
    "\n",
    "\n"
   ]
  },
  {
   "cell_type": "markdown",
   "metadata": {},
   "source": [
    "### Question\n",
    "Does income influence loan amount"
   ]
  },
  {
   "cell_type": "markdown",
   "metadata": {},
   "source": [
    "Different income range affects or influences the loan amount. The higher the income, the higher the loan amount"
   ]
  },
  {
   "cell_type": "markdown",
   "metadata": {},
   "source": [
    "### Discuss the distribution(s) of your variable(s) of interest. Were there any unusual points? Did you need to perform any transformations?\n",
    "\n",
    "> BorrowerAPR: This variable represents the annual percentage rate (APR) charged to borrowers. \n",
    "\n",
    "LoanStatus: This categorical variable indicates the status of the loan (e.g., current, completed, defaulted). I\n",
    "\n",
    "CreditScoreRangeUpper and CreditScoreRangeLower: These variables represent the upper and lower bounds of the borrower's credit score range. \n",
    "\n",
    "LoanOriginationDate: This variable indicates the date when the loan originated. \n",
    "\n",
    "ProsperRating (numeric): This variable represents the numeric rating assigned to the borrower by Prosper. \n",
    "\n",
    "ProsperScore: This variable represents the numeric score indicating the credit risk of the borrower. \n",
    "\n",
    "I had to convert the LoanOriginationDate column to Datetime data type.\n",
    "\n",
    "### Of the features you investigated, were there any unusual distributions? Did you perform any operations on the data to tidy, adjust, or change the form of the data? If so, why did you do this?\n",
    "\n",
    "> i  deleted some columns that were not needed, cause they were either completely empty or totally useless,I had to convert the LoanOriginationDate column to Datetime data type,and used a code to convert some outliers rather than delete it entirely. i went through this process so my analysis could come out clear and can be understood or give me a wrong report."
   ]
  },
  {
   "cell_type": "markdown",
   "metadata": {},
   "source": [
    "## Bivariate Exploration\n"
   ]
  },
  {
   "cell_type": "markdown",
   "metadata": {},
   "source": [
    "### Talk about some of the relationships you observed in this part of the investigation. How did the feature(s) of interest vary with other features in the dataset?\n",
    "\n",
    "> During the investigation, several relationships between the features of interest and other variables in the dataset were observed:\n",
    "\n",
    "BorrowerAPR vs. LoanStatus: There was a noticeable variation in borrower APR across different loan statuses. For example, defaulted loans tended to have higher APRs compared to current or completed loans. This suggests that loan status may influence the APR charged to borrowers.\n",
    "\n",
    "LoanStatus vs. EmploymentStatus: The distribution of loan statuses varied across different employment statuses. For instance, employed borrowers were more likely to have current or completed loans, while unemployed borrowers were more likely to have defaulted loans. This indicates a potential relationship between employment status and loan status.\n",
    "\n",
    "IncomeRange vs. LoanOriginalAmount: Borrowers in higher income ranges tended to request larger loan amounts compared to those in lower income ranges. This suggests that income level may influence the loan amount requested by borrowers.\n",
    "\n",
    "ProsperRating vs. ProsperScore: There was a strong positive correlation observed between ProsperRating and ProsperScore. Borrowers with higher Prosper ratings tended to have higher Prosper scores, indicating consistency in the assessment of borrower creditworthiness by Prosper.\n",
    "\n",
    "IsBorrowerHomeowner vs. LoanOriginalAmount: Homeowners tended to request larger loan amounts compared to non-homeowners. This suggests that homeownership status may be associated with borrowing behavior and loan amounts requested.\n",
    "\n",
    "### Did you observe any interesting relationships between the other features (not the main feature(s) of interest)?\n",
    "\n",
    "> Yes, several interesting relationships were observed between features that were not the main focus of the investigation:\n",
    "\n",
    "EmploymentStatus vs. LoanOriginalAmount: Employed borrowers tended to request larger loan amounts compared to other employment statuses. This suggests that employment status may influence borrowing behavior and the amount of credit requested by borrowers.\n",
    "\n",
    "IncomeRange vs. BorrowerAPR: Borrowers in higher income ranges tended to have lower APRs compared to those in lower income ranges. This indicates that income level may be associated with the interest rates charged to borrowers."
   ]
  },
  {
   "cell_type": "markdown",
   "metadata": {},
   "source": [
    "## Conclusions\n",
    ">After thoroughly exploring the dataset, several key findings and insights have emerged:\n",
    "\n",
    "Borrower Characteristics and Loan Outcomes: Employment status, income range, and credit rating are significant factors influencing loan outcomes such as APR, loan amount, and loan status. Employed borrowers with higher incomes and better credit ratings tend to have lower APRs and request larger loan amounts.\n",
    "\n",
    "Loan Status and Risk Factors: Defaulted loans typically have higher APRs and are associated with certain borrower characteristics such as lower credit scores and employment status. This suggests that lenders may adjust interest rates based on perceived borrower risk.\n",
    "\n",
    "Impact of Loan Term: Loan term does not seem to have a significant impact on borrower credit utilization. However, it may affect other aspects of loan performance, such as monthly payments and loan status.\n",
    "\n",
    "Relationship Between Borrower Attributes: There are clear correlations between borrower attributes such as income range, credit score, and loan amount. Higher income borrowers tend to have better credit scores and request larger loan amounts.\n",
    "\n",
    "Data Exploration Process: The exploration process involved a combination of descriptive statistics, data visualization, and correlation analysis. This iterative approach helped uncover patterns and relationships in the data, guiding further investigation and analysis.\n",
    "\n",
    "Reflecting on the Analysis: Overall, the analysis provided valuable insights into the factors influencing loan outcomes and borrower characteristics. By understanding these relationships, lenders can make more informed decisions about loan approvals, interest rates, and risk assessment.\n",
    "\n",
    "In conclusion, the data exploration process revealed meaningful insights that can inform lending practices and decision-making. Further analysis and refinement of models based on these findings could lead to improved loan management and risk mitigation strategies.\n"
   ]
  },
  {
   "cell_type": "code",
   "execution_count": null,
   "metadata": {},
   "outputs": [],
   "source": []
  }
 ],
 "metadata": {
  "kernelspec": {
   "display_name": "Python 3 (ipykernel)",
   "language": "python",
   "name": "python3"
  },
  "language_info": {
   "codemirror_mode": {
    "name": "ipython",
    "version": 3
   },
   "file_extension": ".py",
   "mimetype": "text/x-python",
   "name": "python",
   "nbconvert_exporter": "python",
   "pygments_lexer": "ipython3",
   "version": "3.11.7"
  }
 },
 "nbformat": 4,
 "nbformat_minor": 4
}
